{
 "cells": [
  {
   "cell_type": "markdown",
   "metadata": {},
   "source": [
    "# Deploy and monitor a machine learning workflow for Image Classification"
   ]
  },
  {
   "cell_type": "markdown",
   "metadata": {},
   "source": [
    "## Setting up this notebook\n",
    "\n",
    "Notes about the instance size and kernel setup: this notebook has been tested on\n",
    "\n",
    "1. The `Python 3 (Data Science)` kernel\n",
    "2. The `ml.t3.medium` Sagemaker notebook instance\n",
    "\n",
    "## Data Staging\n",
    "\n",
    "We'll use a sample dataset called CIFAR to simulate the challenges Scones Unlimited are facing in Image Classification. In order to start working with CIFAR we'll need to:\n",
    "\n",
    "1. Extract the data from a hosting service\n",
    "2. Transform it into a usable shape and format\n",
    "3. Load it into a production system\n",
    "\n",
    "In other words, we're going to do some simple ETL!\n",
    "\n",
    "### 1. Extract the data from the hosting service\n",
    "\n",
    "In the cell below, define a function `extract_cifar_data` that extracts python version of the CIFAR-100 dataset. The CIFAR dataaset is open source and generously hosted by the University of Toronto at: https://www.cs.toronto.edu/~kriz/cifar-100-python.tar.gz "
   ]
  },
  {
   "cell_type": "code",
   "execution_count": 3,
   "metadata": {},
   "outputs": [],
   "source": [
    "import requests\n",
    "\n",
    "def extract_cifar_data(url, filename=\"cifar.tar.gz\"):\n",
    "    \"\"\"A function for extracting the CIFAR-100 dataset and storing it as a gzipped file\n",
    "    \n",
    "    Arguments:\n",
    "    url      -- the URL where the dataset is hosted\n",
    "    filename -- the full path where the dataset will be written\n",
    "    \n",
    "    \"\"\"\n",
    "    \n",
    "    # Todo: request the data from the data url\n",
    "    # Hint: use `requests.get` method\n",
    "    r = requests.get(url)\n",
    "    with open(filename, \"wb\") as file_context:\n",
    "        file_context.write(r.content)\n",
    "    return"
   ]
  },
  {
   "cell_type": "markdown",
   "metadata": {},
   "source": [
    "Let's test it out! Run the following cell and check whether a new file `cifar.tar.gz` is created in the file explorer."
   ]
  },
  {
   "cell_type": "code",
   "execution_count": 4,
   "metadata": {},
   "outputs": [],
   "source": [
    "extract_cifar_data(\"https://www.cs.toronto.edu/~kriz/cifar-100-python.tar.gz\")     "
   ]
  },
  {
   "cell_type": "markdown",
   "metadata": {},
   "source": [
    "### 2. Transform the data into a usable shape and format\n",
    "\n",
    "Clearly, distributing the data as a gzipped archive makes sense for the hosting service! It saves on bandwidth, storage, and it's a widely-used archive format. In fact, it's so widely used that the Python community ships a utility for working with them, `tarfile`, as part of its Standard Library. Execute the following cell to decompress your extracted dataset:"
   ]
  },
  {
   "cell_type": "code",
   "execution_count": 5,
   "metadata": {},
   "outputs": [],
   "source": [
    "import tarfile\n",
    "\n",
    "with tarfile.open(\"cifar.tar.gz\", \"r:gz\") as tar:\n",
    "    tar.extractall()"
   ]
  },
  {
   "cell_type": "markdown",
   "metadata": {},
   "source": [
    "A new folder `cifar-100-python` should be created, containing `meta`, `test`, and `train` files. These files are `pickles` and the [CIFAR homepage](https://www.cs.toronto.edu/~kriz/cifar.html) provides a simple script that can be used to load them. We've adapted the script below for you to run:"
   ]
  },
  {
   "cell_type": "code",
   "execution_count": 5,
   "metadata": {},
   "outputs": [],
   "source": [
    "import pickle\n",
    "\n",
    "with open(\"./cifar-100-python/meta\", \"rb\") as f:\n",
    "    dataset_meta = pickle.load(f, encoding='bytes')\n",
    "\n",
    "with open(\"./cifar-100-python/test\", \"rb\") as f:\n",
    "    dataset_test = pickle.load(f, encoding='bytes')\n",
    "\n",
    "with open(\"./cifar-100-python/train\", \"rb\") as f:\n",
    "    dataset_train = pickle.load(f, encoding='bytes')"
   ]
  },
  {
   "cell_type": "code",
   "execution_count": 6,
   "metadata": {},
   "outputs": [
    {
     "data": {
      "text/plain": [
       "dict_keys([b'filenames', b'batch_label', b'fine_labels', b'coarse_labels', b'data'])"
      ]
     },
     "execution_count": 6,
     "metadata": {},
     "output_type": "execute_result"
    }
   ],
   "source": [
    "# Feel free to explore the datasets\n",
    "\n",
    "dataset_train.keys()"
   ]
  },
  {
   "cell_type": "markdown",
   "metadata": {},
   "source": [
    "As documented on the homepage, `b'data'` contains rows of 3073 unsigned integers, representing three channels (red, green, and blue) for one 32x32 pixel image per row."
   ]
  },
  {
   "cell_type": "code",
   "execution_count": 7,
   "metadata": {},
   "outputs": [
    {
     "data": {
      "text/plain": [
       "3072"
      ]
     },
     "execution_count": 7,
     "metadata": {},
     "output_type": "execute_result"
    }
   ],
   "source": [
    "32*32*3"
   ]
  },
  {
   "cell_type": "markdown",
   "metadata": {},
   "source": [
    "For a simple gut-check, let's transform one of our images. Each 1024 items in a row is a channel (red, green, then blue). Each 32 items in the channel are a row in the 32x32 image. Using python, we can stack these channels into a 32x32x3 array, and save it as a PNG file:"
   ]
  },
  {
   "cell_type": "code",
   "execution_count": 8,
   "metadata": {},
   "outputs": [],
   "source": [
    "import numpy as np\n",
    "\n",
    "# Each 1024 in a row is a channel (red, green, then blue)\n",
    "row = dataset_train[b'data'][0]\n",
    "red, green, blue = row[0:1024], row[1024:2048], row[2048:]\n",
    "\n",
    "# Each 32 items in the channel are a row in the 32x32 image\n",
    "red = red.reshape(32,32)\n",
    "green = green.reshape(32,32)\n",
    "blue = blue.reshape(32,32)\n",
    "\n",
    "# Combine the channels into a 32x32x3 image!\n",
    "combined = np.dstack((red,green,blue))"
   ]
  },
  {
   "cell_type": "code",
   "execution_count": 9,
   "metadata": {},
   "outputs": [
    {
     "data": {
      "text/plain": [
       "array([255, 255, 255, ...,  10,  59,  79], dtype=uint8)"
      ]
     },
     "execution_count": 9,
     "metadata": {},
     "output_type": "execute_result"
    }
   ],
   "source": [
    "row"
   ]
  },
  {
   "cell_type": "markdown",
   "metadata": {},
   "source": [
    "For a more concise version, consider the following:"
   ]
  },
  {
   "cell_type": "code",
   "execution_count": 10,
   "metadata": {},
   "outputs": [],
   "source": [
    "# All in one:\n",
    "test_image = np.dstack((\n",
    "    row[0:1024].reshape(32,32),\n",
    "    row[1024:2048].reshape(32,32),\n",
    "    row[2048:].reshape(32,32)\n",
    "))"
   ]
  },
  {
   "cell_type": "code",
   "execution_count": 11,
   "metadata": {},
   "outputs": [
    {
     "data": {
      "image/png": "[encoded data removed]",
      "text/plain": [
       "<Figure size 640x480 with 1 Axes>"
      ]
     },
     "metadata": {},
     "output_type": "display_data"
    }
   ],
   "source": [
    "import matplotlib.pyplot as plt\n",
    "%matplotlib inline\n",
    "plt.imshow(test_image);"
   ]
  },
  {
   "cell_type": "markdown",
   "metadata": {},
   "source": [
    "Looks like a cow! Let's check the label. `dataset_meta` contains label names in order, and `dataset_train` has a list of labels for each row."
   ]
  },
  {
   "cell_type": "markdown",
   "metadata": {},
   "source": [
    "Our image has a label of `19`, so let's see what the 19th item is in the list of label names."
   ]
  },
  {
   "cell_type": "code",
   "execution_count": 12,
   "metadata": {},
   "outputs": [
    {
     "name": "stdout",
     "output_type": "stream",
     "text": [
      "b'cattle'\n"
     ]
    }
   ],
   "source": [
    "print(dataset_meta[b'fine_label_names'][19])"
   ]
  },
  {
   "cell_type": "markdown",
   "metadata": {},
   "source": [
    "Ok! 'cattle' sounds about right. By the way, using the previous two lines we can do:"
   ]
  },
  {
   "cell_type": "code",
   "execution_count": 13,
   "metadata": {},
   "outputs": [
    {
     "name": "stdout",
     "output_type": "stream",
     "text": [
      "b'cattle'\n"
     ]
    }
   ],
   "source": [
    "n = 0\n",
    "print(dataset_meta[b'fine_label_names'][dataset_train[b'fine_labels'][n]])"
   ]
  },
  {
   "cell_type": "markdown",
   "metadata": {},
   "source": [
    "Now we know how to check labels, is there a way that we can also check file names? `dataset_train` also contains a `b'filenames'` key. Let's see what we have here:"
   ]
  },
  {
   "cell_type": "code",
   "execution_count": 14,
   "metadata": {},
   "outputs": [
    {
     "name": "stdout",
     "output_type": "stream",
     "text": [
      "b'bos_taurus_s_000507.png'\n"
     ]
    }
   ],
   "source": [
    "print(dataset_train[b'filenames'][0])"
   ]
  },
  {
   "cell_type": "markdown",
   "metadata": {},
   "source": [
    "\"Taurus\" is the name of a subspecies of cattle, so this looks like a pretty reasonable filename. To save an image we can also do:"
   ]
  },
  {
   "cell_type": "code",
   "execution_count": 15,
   "metadata": {},
   "outputs": [],
   "source": [
    "plt.imsave(\"file.png\", test_image)"
   ]
  },
  {
   "cell_type": "markdown",
   "metadata": {},
   "source": [
    "Your new PNG file should now appear in the file explorer -- go ahead and pop it open to see!\n",
    "\n",
    "Now that you know how to reshape the images, save them as files, and capture their filenames and labels, let's just capture all the bicycles and motorcycles and save them. Scones Unlimited can use a model that tells these apart to route delivery drivers automatically.\n",
    "\n",
    "In the following cell, identify the label numbers for Bicycles and Motorcycles:"
   ]
  },
  {
   "cell_type": "code",
   "execution_count": 16,
   "metadata": {},
   "outputs": [
    {
     "name": "stdout",
     "output_type": "stream",
     "text": [
      "Label number of  b'bicycle'  is:  8\n",
      "Label number of  b'motorcycle'  is:  48\n"
     ]
    }
   ],
   "source": [
    "import pandas as pd\n",
    "\n",
    "\n",
    "# Todo: Filter the dataset_train and dataset_meta objects to find the label numbers for Bicycle and Motorcycles\n",
    "search_label = [b'bicycle', b'motorcycle']\n",
    "for i in range(len(dataset_meta[b'fine_label_names'])):\n",
    "    label = dataset_meta[b'fine_label_names'][i]\n",
    "    if label in search_label:\n",
    "        print(f'Label number of ',label,' is: ',i)\n"
   ]
  },
  {
   "cell_type": "markdown",
   "metadata": {},
   "source": [
    "Good job! We only need objects with label 8 and 48 -- this drastically simplifies our handling of the data! Below we construct a dataframe for you, and you can safely drop the rows that don't contain observations about bicycles and motorcycles. Fill in the missing lines below to drop all other rows:"
   ]
  },
  {
   "cell_type": "code",
   "execution_count": 17,
   "metadata": {},
   "outputs": [
    {
     "data": {
      "text/html": [
       "<div>\n",
       "<style scoped>\n",
       "    .dataframe tbody tr th:only-of-type {\n",
       "        vertical-align: middle;\n",
       "    }\n",
       "\n",
       "    .dataframe tbody tr th {\n",
       "        vertical-align: top;\n",
       "    }\n",
       "\n",
       "    .dataframe thead th {\n",
       "        text-align: right;\n",
       "    }\n",
       "</style>\n",
       "<table border=\"1\" class=\"dataframe\">\n",
       "  <thead>\n",
       "    <tr style=\"text-align: right;\">\n",
       "      <th></th>\n",
       "      <th>filenames</th>\n",
       "      <th>labels</th>\n",
       "      <th>row</th>\n",
       "    </tr>\n",
       "  </thead>\n",
       "  <tbody>\n",
       "    <tr>\n",
       "      <th>0</th>\n",
       "      <td>b'bos_taurus_s_000507.png'</td>\n",
       "      <td>19</td>\n",
       "      <td>0</td>\n",
       "    </tr>\n",
       "    <tr>\n",
       "      <th>1</th>\n",
       "      <td>b'stegosaurus_s_000125.png'</td>\n",
       "      <td>29</td>\n",
       "      <td>1</td>\n",
       "    </tr>\n",
       "    <tr>\n",
       "      <th>2</th>\n",
       "      <td>b'mcintosh_s_000643.png'</td>\n",
       "      <td>0</td>\n",
       "      <td>2</td>\n",
       "    </tr>\n",
       "    <tr>\n",
       "      <th>3</th>\n",
       "      <td>b'altar_boy_s_001435.png'</td>\n",
       "      <td>11</td>\n",
       "      <td>3</td>\n",
       "    </tr>\n",
       "    <tr>\n",
       "      <th>4</th>\n",
       "      <td>b'cichlid_s_000031.png'</td>\n",
       "      <td>1</td>\n",
       "      <td>4</td>\n",
       "    </tr>\n",
       "  </tbody>\n",
       "</table>\n",
       "</div>"
      ],
      "text/plain": [
       "                     filenames  labels  row\n",
       "0   b'bos_taurus_s_000507.png'      19    0\n",
       "1  b'stegosaurus_s_000125.png'      29    1\n",
       "2     b'mcintosh_s_000643.png'       0    2\n",
       "3    b'altar_boy_s_001435.png'      11    3\n",
       "4      b'cichlid_s_000031.png'       1    4"
      ]
     },
     "execution_count": 17,
     "metadata": {},
     "output_type": "execute_result"
    }
   ],
   "source": [
    "#Construct the dataframe\n",
    "df_train = pd.DataFrame({\n",
    "    \"filenames\": dataset_train[b'filenames'],\n",
    "    \"labels\": dataset_train[b'fine_labels'],\n",
    "    \"row\": range(len(dataset_train[b'filenames']))\n",
    "})\n",
    "df_train.head()"
   ]
  },
  {
   "cell_type": "code",
   "execution_count": 18,
   "metadata": {},
   "outputs": [
    {
     "data": {
      "text/html": [
       "<div>\n",
       "<style scoped>\n",
       "    .dataframe tbody tr th:only-of-type {\n",
       "        vertical-align: middle;\n",
       "    }\n",
       "\n",
       "    .dataframe tbody tr th {\n",
       "        vertical-align: top;\n",
       "    }\n",
       "\n",
       "    .dataframe thead th {\n",
       "        text-align: right;\n",
       "    }\n",
       "</style>\n",
       "<table border=\"1\" class=\"dataframe\">\n",
       "  <thead>\n",
       "    <tr style=\"text-align: right;\">\n",
       "      <th></th>\n",
       "      <th>filenames</th>\n",
       "      <th>labels</th>\n",
       "      <th>row</th>\n",
       "    </tr>\n",
       "  </thead>\n",
       "  <tbody>\n",
       "    <tr>\n",
       "      <th>0</th>\n",
       "      <td>b'volcano_s_000012.png'</td>\n",
       "      <td>49</td>\n",
       "      <td>0</td>\n",
       "    </tr>\n",
       "    <tr>\n",
       "      <th>1</th>\n",
       "      <td>b'woods_s_000412.png'</td>\n",
       "      <td>33</td>\n",
       "      <td>1</td>\n",
       "    </tr>\n",
       "    <tr>\n",
       "      <th>2</th>\n",
       "      <td>b'seal_s_001803.png'</td>\n",
       "      <td>72</td>\n",
       "      <td>2</td>\n",
       "    </tr>\n",
       "    <tr>\n",
       "      <th>3</th>\n",
       "      <td>b'mushroom_s_001755.png'</td>\n",
       "      <td>51</td>\n",
       "      <td>3</td>\n",
       "    </tr>\n",
       "    <tr>\n",
       "      <th>4</th>\n",
       "      <td>b'adriatic_sea_s_000653.png'</td>\n",
       "      <td>71</td>\n",
       "      <td>4</td>\n",
       "    </tr>\n",
       "  </tbody>\n",
       "</table>\n",
       "</div>"
      ],
      "text/plain": [
       "                      filenames  labels  row\n",
       "0       b'volcano_s_000012.png'      49    0\n",
       "1         b'woods_s_000412.png'      33    1\n",
       "2          b'seal_s_001803.png'      72    2\n",
       "3      b'mushroom_s_001755.png'      51    3\n",
       "4  b'adriatic_sea_s_000653.png'      71    4"
      ]
     },
     "execution_count": 18,
     "metadata": {},
     "output_type": "execute_result"
    }
   ],
   "source": [
    "df_test = pd.DataFrame({\n",
    "    \"filenames\": dataset_test[b'filenames'],\n",
    "    \"labels\": dataset_test[b'fine_labels'],\n",
    "    \"row\": range(len(dataset_test[b'filenames']))\n",
    "})\n",
    "df_test.head()"
   ]
  },
  {
   "cell_type": "code",
   "execution_count": 19,
   "metadata": {},
   "outputs": [],
   "source": [
    "# Drop all rows from df_train where label is not 8 or 48\n",
    "df_train = df_train[df_train['labels'].isin([8,48])]\n",
    "\n",
    "# Decode df_train.filenames so they are regular strings\n",
    "df_train[\"filenames\"] = df_train[\"filenames\"].apply(\n",
    "    lambda x: x.decode(\"utf-8\")\n",
    ")\n",
    "\n",
    "# Drop all rows from df_test where label is not 8 or 48\n",
    "df_test = df_test[df_test['labels'].isin([8,48])]\n",
    "\n",
    "# Decode df_test.filenames so they are regular strings\n",
    "df_test[\"filenames\"] = df_test[\"filenames\"].apply(\n",
    "    lambda x: x.decode(\"utf-8\")\n",
    ")"
   ]
  },
  {
   "cell_type": "code",
   "execution_count": 20,
   "metadata": {},
   "outputs": [
    {
     "name": "stdout",
     "output_type": "stream",
     "text": [
      "[ 8 48]\n",
      "[ 8 48]\n"
     ]
    }
   ],
   "source": [
    "# Check if we have the correct labels\n",
    "print(df_train['labels'].unique())\n",
    "print(df_test['labels'].unique())"
   ]
  },
  {
   "cell_type": "code",
   "execution_count": 21,
   "metadata": {},
   "outputs": [
    {
     "data": {
      "text/html": [
       "<div>\n",
       "<style scoped>\n",
       "    .dataframe tbody tr th:only-of-type {\n",
       "        vertical-align: middle;\n",
       "    }\n",
       "\n",
       "    .dataframe tbody tr th {\n",
       "        vertical-align: top;\n",
       "    }\n",
       "\n",
       "    .dataframe thead th {\n",
       "        text-align: right;\n",
       "    }\n",
       "</style>\n",
       "<table border=\"1\" class=\"dataframe\">\n",
       "  <thead>\n",
       "    <tr style=\"text-align: right;\">\n",
       "      <th></th>\n",
       "      <th>filenames</th>\n",
       "      <th>labels</th>\n",
       "      <th>row</th>\n",
       "    </tr>\n",
       "  </thead>\n",
       "  <tbody>\n",
       "    <tr>\n",
       "      <th>16</th>\n",
       "      <td>bike_s_000682.png</td>\n",
       "      <td>8</td>\n",
       "      <td>16</td>\n",
       "    </tr>\n",
       "    <tr>\n",
       "      <th>30</th>\n",
       "      <td>bike_s_000127.png</td>\n",
       "      <td>8</td>\n",
       "      <td>30</td>\n",
       "    </tr>\n",
       "    <tr>\n",
       "      <th>130</th>\n",
       "      <td>cycle_s_002598.png</td>\n",
       "      <td>8</td>\n",
       "      <td>130</td>\n",
       "    </tr>\n",
       "    <tr>\n",
       "      <th>152</th>\n",
       "      <td>minibike_s_000824.png</td>\n",
       "      <td>48</td>\n",
       "      <td>152</td>\n",
       "    </tr>\n",
       "    <tr>\n",
       "      <th>195</th>\n",
       "      <td>motorcycle_s_001856.png</td>\n",
       "      <td>48</td>\n",
       "      <td>195</td>\n",
       "    </tr>\n",
       "  </tbody>\n",
       "</table>\n",
       "</div>"
      ],
      "text/plain": [
       "                   filenames  labels  row\n",
       "16         bike_s_000682.png       8   16\n",
       "30         bike_s_000127.png       8   30\n",
       "130       cycle_s_002598.png       8  130\n",
       "152    minibike_s_000824.png      48  152\n",
       "195  motorcycle_s_001856.png      48  195"
      ]
     },
     "execution_count": 21,
     "metadata": {},
     "output_type": "execute_result"
    }
   ],
   "source": [
    "df_train.head()"
   ]
  },
  {
   "cell_type": "markdown",
   "metadata": {},
   "source": [
    "Now that the data is filtered for just our classes, we can save all our images."
   ]
  },
  {
   "cell_type": "code",
   "execution_count": 22,
   "metadata": {},
   "outputs": [
    {
     "name": "stdout",
     "output_type": "stream",
     "text": [
      "mkdir: cannot create directory ‘./train’: File exists\n",
      "mkdir: cannot create directory ‘./test’: File exists\n"
     ]
    }
   ],
   "source": [
    "!mkdir ./train\n",
    "!mkdir ./test"
   ]
  },
  {
   "cell_type": "markdown",
   "metadata": {},
   "source": [
    "In the previous sections we introduced you to several key snippets of code:\n",
    "\n",
    "1. Grabbing the image data:\n",
    "\n",
    "```python\n",
    "dataset_train[b'data'][0]\n",
    "```\n",
    "\n",
    "2. A simple idiom for stacking the image data into the right shape\n",
    "\n",
    "```python\n",
    "import numpy as np\n",
    "np.dstack((\n",
    "    row[0:1024].reshape(32,32),\n",
    "    row[1024:2048].reshape(32,32),\n",
    "    row[2048:].reshape(32,32)\n",
    "))\n",
    "```\n",
    "\n",
    "3. A simple `matplotlib` utility for saving images\n",
    "\n",
    "```python\n",
    "plt.imsave(path+row['filenames'], target)\n",
    "```\n",
    "\n",
    "Compose these together into a function that saves all the images into the `./test` and `./train` directories. Use the comments in the body of the `save_images` function below to guide your construction of the function:\n"
   ]
  },
  {
   "cell_type": "code",
   "execution_count": 23,
   "metadata": {},
   "outputs": [
    {
     "data": {
      "text/plain": [
       "<matplotlib.image.AxesImage at 0x7f6ecba02490>"
      ]
     },
     "execution_count": 23,
     "metadata": {},
     "output_type": "execute_result"
    },
    {
     "data": {
      "image/png": "[encoded data removed]",
      "text/plain": [
       "<Figure size 640x480 with 1 Axes>"
      ]
     },
     "metadata": {},
     "output_type": "display_data"
    }
   ],
   "source": [
    "row=dataset_train[b'data'][16]\n",
    "img=np.dstack((\n",
    "    row[0:1024].reshape(32,32),\n",
    "    row[1024:2048].reshape(32,32),\n",
    "    row[2048:].reshape(32,32)\n",
    "))\n",
    "plt.imshow(img)"
   ]
  },
  {
   "cell_type": "code",
   "execution_count": 24,
   "metadata": {},
   "outputs": [],
   "source": [
    "def save_images(df_in: pd.DataFrame, path: str):\n",
    "    \n",
    "    path = path + '/'\n",
    "    for index, row in df_in.iterrows():\n",
    "        #Grab the image data in row-major form\n",
    "        rownum_img = row['row']\n",
    "        if path == 'train/':\n",
    "            img_def = dataset_train[b'data'][rownum_img]\n",
    "        elif path == 'test/':\n",
    "            img_def = dataset_test[b'data'][rownum_img]\n",
    "        else:\n",
    "            print(f'Wrong parameter for path: ', path)\n",
    "            return(-1)\n",
    "        img = np.dstack((\n",
    "                img_def[0:1024].reshape(32,32),\n",
    "                img_def[1024:2048].reshape(32,32),\n",
    "                img_def[2048:].reshape(32,32)\n",
    "                ))\n",
    "    \n",
    "        # Consolidated stacking/reshaping from earlier\n",
    "        #target = \n",
    "        plt.imsave(path+row['filenames'], img)\n",
    "        # Save the image\n",
    "    \n",
    "    \n",
    "    # Return any signal data you want for debugging\n",
    "    return 0\n",
    "\n",
    "## TODO: save ALL images using the save_images function"
   ]
  },
  {
   "cell_type": "code",
   "execution_count": null,
   "metadata": {},
   "outputs": [],
   "source": [
    "save_images(df_train,'train')"
   ]
  },
  {
   "cell_type": "code",
   "execution_count": 65,
   "metadata": {},
   "outputs": [
    {
     "data": {
      "text/plain": [
       "0"
      ]
     },
     "execution_count": 65,
     "metadata": {},
     "output_type": "execute_result"
    }
   ],
   "source": [
    "save_images(df_test,'test')"
   ]
  },
  {
   "cell_type": "markdown",
   "metadata": {},
   "source": [
    "### 3. Load the data\n",
    "\n",
    "Now we can load the data into S3.\n",
    "\n",
    "Using the sagemaker SDK grab the current region, execution role, and bucket."
   ]
  },
  {
   "cell_type": "code",
   "execution_count": 3,
   "metadata": {},
   "outputs": [
    {
     "name": "stdout",
     "output_type": "stream",
     "text": [
      "Default Bucket: dev-ml-hreining\n",
      "AWS Region: us-east-1\n",
      "RoleArn: arn:aws:iam::524066191523:role/my-sagemaker-role\n"
     ]
    }
   ],
   "source": [
    "import sagemaker\n",
    "\n",
    "\n",
    "bucket = 'dev-ml-hreining'\n",
    "print(\"Default Bucket: {}\".format(bucket))\n",
    "\n",
    "region = 'us-east-1'\n",
    "print(\"AWS Region: {}\".format(region))\n",
    "\n",
    "role = 'arn:aws:iam::524066191523:role/my-sagemaker-role'\n",
    "print(\"RoleArn: {}\".format(role))"
   ]
  },
  {
   "cell_type": "markdown",
   "metadata": {},
   "source": [
    "With this data we can easily sync your data up into S3!"
   ]
  },
  {
   "cell_type": "code",
   "execution_count": null,
   "metadata": {},
   "outputs": [],
   "source": [
    "import os\n",
    "\n",
    "os.environ[\"DEFAULT_S3_BUCKET\"] = bucket\n",
    "!aws s3 sync ./train s3://${DEFAULT_S3_BUCKET}/train/\n",
    "!aws s3 sync ./test s3://${DEFAULT_S3_BUCKET}/test/"
   ]
  },
  {
   "cell_type": "markdown",
   "metadata": {},
   "source": [
    "And that's it! You can check the bucket and verify that the items were uploaded.\n",
    "\n",
    "## Model Training\n",
    "\n",
    "For Image Classification, Sagemaker [also expects metadata](https://docs.aws.amazon.com/sagemaker/latest/dg/image-classification.html) e.g. in the form of TSV files with labels and filepaths. We can generate these using our Pandas DataFrames from earlier:"
   ]
  },
  {
   "cell_type": "code",
   "execution_count": 27,
   "metadata": {},
   "outputs": [],
   "source": [
    "def to_metadata_file(df, prefix):\n",
    "    df[\"s3_path\"] = df[\"filenames\"]\n",
    "    df[\"labels\"] = df[\"labels\"].apply(lambda x: 0 if x==8 else 1)\n",
    "    return df[[\"row\", \"labels\", \"s3_path\"]].to_csv(\n",
    "        f\"{prefix}.lst\", sep=\"\\t\", index=False, header=False\n",
    "    )\n",
    "    \n",
    "to_metadata_file(df_train.copy(), \"train\")\n",
    "to_metadata_file(df_test.copy(), \"test\")"
   ]
  },
  {
   "cell_type": "markdown",
   "metadata": {},
   "source": [
    "We can also upload our manifest files:"
   ]
  },
  {
   "cell_type": "code",
   "execution_count": 28,
   "metadata": {},
   "outputs": [],
   "source": [
    "import boto3\n",
    "\n",
    "# Upload files\n",
    "boto3.Session().resource('s3').Bucket(\n",
    "    bucket).Object('train.lst').upload_file('./train.lst')\n",
    "boto3.Session().resource('s3').Bucket(\n",
    "    bucket).Object('test.lst').upload_file('./test.lst')"
   ]
  },
  {
   "cell_type": "markdown",
   "metadata": {},
   "source": [
    "Using the `bucket` and `region` info we can get the latest prebuilt container to run our training job, and define an output location on our s3 bucket for the model. Use the `image_uris` function from the SageMaker SDK to retrieve the latest `image-classification` image below:"
   ]
  },
  {
   "cell_type": "code",
   "execution_count": 29,
   "metadata": {},
   "outputs": [
    {
     "name": "stderr",
     "output_type": "stream",
     "text": [
      "Defaulting to the only supported framework/algorithm version: 1. Ignoring framework/algorithm version: latest.\n"
     ]
    }
   ],
   "source": [
    "# Use the image_uris function to retrieve the latest 'image-classification' image \n",
    "algo_image = sagemaker.image_uris.retrieve(framework='image-classification', region=region, version='latest')\n",
    "s3_output_location = f\"s3://{bucket}/models/image_model\""
   ]
  },
  {
   "cell_type": "code",
   "execution_count": 30,
   "metadata": {},
   "outputs": [
    {
     "data": {
      "text/plain": [
       "'811284229777.dkr.ecr.us-east-1.amazonaws.com/image-classification:1'"
      ]
     },
     "execution_count": 30,
     "metadata": {},
     "output_type": "execute_result"
    }
   ],
   "source": [
    "algo_image"
   ]
  },
  {
   "cell_type": "markdown",
   "metadata": {},
   "source": [
    "We're ready to create an estimator! Create an estimator `img_classifier_model` that uses one instance of `ml.p3.2xlarge`. Ensure that y ou use the output location we defined above - we'll be referring to that later!"
   ]
  },
  {
   "cell_type": "code",
   "execution_count": 31,
   "metadata": {},
   "outputs": [],
   "source": [
    "img_classifier_model=sagemaker.estimator.Estimator(\n",
    "    image_uri=algo_image,\n",
    "    role=role,\n",
    "    instance_count=1, \n",
    "    instance_type='ml.p3.2xlarge',\n",
    "    output_path=s3_output_location\n",
    ")"
   ]
  },
  {
   "cell_type": "markdown",
   "metadata": {},
   "source": [
    "We can also set a few key hyperparameters and define the inputs for our model:"
   ]
  },
  {
   "cell_type": "code",
   "execution_count": 32,
   "metadata": {},
   "outputs": [],
   "source": [
    "img_classifier_model.set_hyperparameters(\n",
    "    image_shape='3,32,32', # TODO: Fill in\n",
    "    num_classes=2, # TODO: Fill in\n",
    "    num_training_samples=1000 # TODO: fill in\n",
    ")"
   ]
  },
  {
   "cell_type": "markdown",
   "metadata": {},
   "source": [
    "The `image-classification` image uses four input channels with very specific input parameters. For convenience, we've provided them below:"
   ]
  },
  {
   "cell_type": "code",
   "execution_count": 33,
   "metadata": {},
   "outputs": [],
   "source": [
    "from sagemaker.debugger import Rule, rule_configs\n",
    "from sagemaker.session import TrainingInput\n",
    "model_inputs = {\n",
    "        \"train\": sagemaker.inputs.TrainingInput(\n",
    "            s3_data=f\"s3://{bucket}/train/\",\n",
    "            content_type=\"application/x-image\"\n",
    "        ),\n",
    "        \"validation\": sagemaker.inputs.TrainingInput(\n",
    "            s3_data=f\"s3://{bucket}/test/\",\n",
    "            content_type=\"application/x-image\"\n",
    "        ),\n",
    "        \"train_lst\": sagemaker.inputs.TrainingInput(\n",
    "            s3_data=f\"s3://{bucket}/train.lst\",\n",
    "            content_type=\"application/x-image\"\n",
    "        ),\n",
    "        \"validation_lst\": sagemaker.inputs.TrainingInput(\n",
    "            s3_data=f\"s3://{bucket}/test.lst\",\n",
    "            content_type=\"application/x-image\"\n",
    "        )\n",
    "}"
   ]
  },
  {
   "cell_type": "code",
   "execution_count": 34,
   "metadata": {},
   "outputs": [
    {
     "data": {
      "text/plain": [
       "<sagemaker.inputs.TrainingInput at 0x7f6ec5836350>"
      ]
     },
     "execution_count": 34,
     "metadata": {},
     "output_type": "execute_result"
    }
   ],
   "source": [
    "model_inputs['train']"
   ]
  },
  {
   "cell_type": "markdown",
   "metadata": {},
   "source": [
    "Great, now we can train the model using the model_inputs. In the cell below, call the `fit` method on our model,:"
   ]
  },
  {
   "cell_type": "code",
   "execution_count": 35,
   "metadata": {},
   "outputs": [
    {
     "name": "stdout",
     "output_type": "stream",
     "text": [
      "2022-10-20 05:26:36 Starting - Starting the training job...\n",
      "2022-10-20 05:27:01 Starting - Preparing the instances for trainingProfilerReport-1666243595: InProgress\n",
      ".........\n",
      "2022-10-20 05:28:34 Downloading - Downloading input data...\n",
      "2022-10-20 05:29:04 Training - Downloading the training image........................\n",
      "2022-10-20 05:33:00 Training - Training image download completed. Training in progress.\u001b[34mDocker entrypoint called with argument(s): train\u001b[0m\n",
      "\u001b[34m[10/20/2022 05:33:02 INFO 139842248656704] Reading default configuration from /opt/amazon/lib/python3.7/site-packages/image_classification/default-input.json: {'use_pretrained_model': 0, 'num_layers': 152, 'epochs': 30, 'learning_rate': 0.1, 'lr_scheduler_factor': 0.1, 'optimizer': 'sgd', 'momentum': 0, 'weight_decay': 0.0001, 'beta_1': 0.9, 'beta_2': 0.999, 'eps': 1e-08, 'gamma': 0.9, 'mini_batch_size': 32, 'image_shape': '3,224,224', 'precision_dtype': 'float32'}\u001b[0m\n",
      "\u001b[34m[10/20/2022 05:33:02 INFO 139842248656704] Merging with provided configuration from /opt/ml/input/config/hyperparameters.json: {'image_shape': '3,32,32', 'num_classes': '2', 'num_training_samples': '1000'}\u001b[0m\n",
      "\u001b[34m[10/20/2022 05:33:02 INFO 139842248656704] Final configuration: {'use_pretrained_model': 0, 'num_layers': 152, 'epochs': 30, 'learning_rate': 0.1, 'lr_scheduler_factor': 0.1, 'optimizer': 'sgd', 'momentum': 0, 'weight_decay': 0.0001, 'beta_1': 0.9, 'beta_2': 0.999, 'eps': 1e-08, 'gamma': 0.9, 'mini_batch_size': 32, 'image_shape': '3,32,32', 'precision_dtype': 'float32', 'num_classes': '2', 'num_training_samples': '1000'}\u001b[0m\n",
      "\u001b[34m[10/20/2022 05:33:02 INFO 139842248656704] Searching for .lst files in /opt/ml/input/data/train_lst.\u001b[0m\n",
      "\u001b[34m[10/20/2022 05:33:02 INFO 139842248656704] Creating record files for train.lst\u001b[0m\n",
      "\u001b[34m[10/20/2022 05:33:02 INFO 139842248656704] Done creating record files...\u001b[0m\n",
      "\u001b[34m[10/20/2022 05:33:02 INFO 139842248656704] Searching for .lst files in /opt/ml/input/data/validation_lst.\u001b[0m\n",
      "\u001b[34m[10/20/2022 05:33:02 INFO 139842248656704] Creating record files for test.lst\u001b[0m\n",
      "\u001b[34m[10/20/2022 05:33:02 INFO 139842248656704] Done creating record files...\u001b[0m\n",
      "\u001b[34m[10/20/2022 05:33:02 INFO 139842248656704] use_pretrained_model: 0\u001b[0m\n",
      "\u001b[34m[10/20/2022 05:33:02 INFO 139842248656704] multi_label: 0\u001b[0m\n",
      "\u001b[34m[10/20/2022 05:33:02 INFO 139842248656704] Performing random weight initialization\u001b[0m\n",
      "\u001b[34m[10/20/2022 05:33:02 INFO 139842248656704] ---- Parameters ----\u001b[0m\n",
      "\u001b[34m[10/20/2022 05:33:02 INFO 139842248656704] num_layers: 152\u001b[0m\n",
      "\u001b[34m[10/20/2022 05:33:02 INFO 139842248656704] data type: <class 'numpy.float32'>\u001b[0m\n",
      "\u001b[34m[10/20/2022 05:33:02 INFO 139842248656704] epochs: 30\u001b[0m\n",
      "\u001b[34m[10/20/2022 05:33:02 INFO 139842248656704] optimizer: sgd\u001b[0m\n",
      "\u001b[34m[10/20/2022 05:33:02 INFO 139842248656704] momentum: 0.9\u001b[0m\n",
      "\u001b[34m[10/20/2022 05:33:02 INFO 139842248656704] weight_decay: 0.0001\u001b[0m\n",
      "\u001b[34m[10/20/2022 05:33:02 INFO 139842248656704] learning_rate: 0.1\u001b[0m\n",
      "\u001b[34m[10/20/2022 05:33:02 INFO 139842248656704] num_training_samples: 1000\u001b[0m\n",
      "\u001b[34m[10/20/2022 05:33:02 INFO 139842248656704] mini_batch_size: 32\u001b[0m\n",
      "\u001b[34m[10/20/2022 05:33:02 INFO 139842248656704] image_shape: 3,32,32\u001b[0m\n",
      "\u001b[34m[10/20/2022 05:33:02 INFO 139842248656704] num_classes: 2\u001b[0m\n",
      "\u001b[34m[10/20/2022 05:33:02 INFO 139842248656704] augmentation_type: None\u001b[0m\n",
      "\u001b[34m[10/20/2022 05:33:02 INFO 139842248656704] kv_store: device\u001b[0m\n",
      "\u001b[34m[10/20/2022 05:33:02 INFO 139842248656704] checkpoint_frequency not set, will store the best model\u001b[0m\n",
      "\u001b[34m[10/20/2022 05:33:02 INFO 139842248656704] --------------------\u001b[0m\n",
      "\u001b[34m[10/20/2022 05:33:03 INFO 139842248656704] Setting number of threads: 7\u001b[0m\n",
      "\u001b[34m[05:33:17] /opt/brazil-pkg-cache/packages/AIAlgorithmsMXNet/AIAlgorithmsMXNet-1.4.x_ecl_Cuda_11.1.x.19.0/AL2_x86_64/generic-flavor/src/src/operator/nn/./cudnn/./cudnn_algoreg-inl.h:97: Running performance tests to find the best convolution algorithm, this can take a while... (setting env variable MXNET_CUDNN_AUTOTUNE_DEFAULT to 0 to disable)\u001b[0m\n",
      "\u001b[34m[10/20/2022 05:33:23 INFO 139842248656704] Epoch[0] Batch [20]#011Speed: 111.922 samples/sec#011accuracy=0.575893\u001b[0m\n",
      "\u001b[34m[10/20/2022 05:33:24 INFO 139842248656704] Epoch[0] Train-accuracy=0.623992\u001b[0m\n",
      "\u001b[34m[10/20/2022 05:33:24 INFO 139842248656704] Epoch[0] Time cost=7.525\u001b[0m\n",
      "\u001b[34m[10/20/2022 05:33:25 INFO 139842248656704] Epoch[0] Validation-accuracy=0.494792\u001b[0m\n",
      "\u001b[34m[10/20/2022 05:33:25 INFO 139842248656704] Storing the best model with validation accuracy: 0.494792\u001b[0m\n",
      "\u001b[34m[10/20/2022 05:33:26 INFO 139842248656704] Saved checkpoint to \"/opt/ml/model/image-classification-0001.params\"\u001b[0m\n",
      "\u001b[34m[10/20/2022 05:33:29 INFO 139842248656704] Epoch[1] Batch [20]#011Speed: 165.516 samples/sec#011accuracy=0.715774\u001b[0m\n",
      "\u001b[34m[10/20/2022 05:33:31 INFO 139842248656704] Epoch[1] Train-accuracy=0.699597\u001b[0m\n",
      "\u001b[34m[10/20/2022 05:33:31 INFO 139842248656704] Epoch[1] Time cost=5.668\u001b[0m\n",
      "\u001b[34m[10/20/2022 05:33:32 INFO 139842248656704] Epoch[1] Validation-accuracy=0.635417\u001b[0m\n",
      "\u001b[34m[10/20/2022 05:33:32 INFO 139842248656704] Storing the best model with validation accuracy: 0.635417\u001b[0m\n",
      "\u001b[34m[10/20/2022 05:33:33 INFO 139842248656704] Saved checkpoint to \"/opt/ml/model/image-classification-0002.params\"\u001b[0m\n",
      "\u001b[34m[10/20/2022 05:33:36 INFO 139842248656704] Epoch[2] Batch [20]#011Speed: 172.682 samples/sec#011accuracy=0.578869\u001b[0m\n",
      "\u001b[34m[10/20/2022 05:33:38 INFO 139842248656704] Epoch[2] Train-accuracy=0.596774\u001b[0m\n",
      "\u001b[34m[10/20/2022 05:33:38 INFO 139842248656704] Epoch[2] Time cost=5.523\u001b[0m\n",
      "\u001b[34m[10/20/2022 05:33:39 INFO 139842248656704] Epoch[2] Validation-accuracy=0.677083\u001b[0m\n",
      "\u001b[34m[10/20/2022 05:33:39 INFO 139842248656704] Storing the best model with validation accuracy: 0.677083\u001b[0m\n",
      "\u001b[34m[10/20/2022 05:33:39 INFO 139842248656704] Saved checkpoint to \"/opt/ml/model/image-classification-0003.params\"\u001b[0m\n",
      "\u001b[34m[10/20/2022 05:33:43 INFO 139842248656704] Epoch[3] Batch [20]#011Speed: 174.157 samples/sec#011accuracy=0.705357\u001b[0m\n",
      "\u001b[34m[10/20/2022 05:33:45 INFO 139842248656704] Epoch[3] Train-accuracy=0.741935\u001b[0m\n",
      "\u001b[34m[10/20/2022 05:33:45 INFO 139842248656704] Epoch[3] Time cost=5.487\u001b[0m\n",
      "\u001b[34m[10/20/2022 05:33:45 INFO 139842248656704] Epoch[3] Validation-accuracy=0.821429\u001b[0m\n",
      "\u001b[34m[10/20/2022 05:33:46 INFO 139842248656704] Storing the best model with validation accuracy: 0.821429\u001b[0m\n",
      "\u001b[34m[10/20/2022 05:33:46 INFO 139842248656704] Saved checkpoint to \"/opt/ml/model/image-classification-0004.params\"\u001b[0m\n",
      "\u001b[34m[10/20/2022 05:33:50 INFO 139842248656704] Epoch[4] Batch [20]#011Speed: 173.938 samples/sec#011accuracy=0.778274\u001b[0m\n",
      "\u001b[34m[10/20/2022 05:33:52 INFO 139842248656704] Epoch[4] Train-accuracy=0.775202\u001b[0m\n",
      "\u001b[34m[10/20/2022 05:33:52 INFO 139842248656704] Epoch[4] Time cost=5.478\u001b[0m\n",
      "\u001b[34m[10/20/2022 05:33:52 INFO 139842248656704] Epoch[4] Validation-accuracy=0.822917\u001b[0m\n",
      "\u001b[34m[10/20/2022 05:33:53 INFO 139842248656704] Storing the best model with validation accuracy: 0.822917\u001b[0m\n",
      "\u001b[34m[10/20/2022 05:33:53 INFO 139842248656704] Saved checkpoint to \"/opt/ml/model/image-classification-0005.params\"\u001b[0m\n",
      "\u001b[34m[10/20/2022 05:33:57 INFO 139842248656704] Epoch[5] Batch [20]#011Speed: 173.850 samples/sec#011accuracy=0.794643\u001b[0m\n",
      "\u001b[34m[10/20/2022 05:33:58 INFO 139842248656704] Epoch[5] Train-accuracy=0.789315\u001b[0m\n",
      "\u001b[34m[10/20/2022 05:33:58 INFO 139842248656704] Epoch[5] Time cost=5.504\u001b[0m\n",
      "\u001b[34m[10/20/2022 05:33:59 INFO 139842248656704] Epoch[5] Validation-accuracy=0.770833\u001b[0m\n",
      "\u001b[34m[10/20/2022 05:34:03 INFO 139842248656704] Epoch[6] Batch [20]#011Speed: 173.189 samples/sec#011accuracy=0.830357\u001b[0m\n",
      "\u001b[34m[10/20/2022 05:34:05 INFO 139842248656704] Epoch[6] Train-accuracy=0.798387\u001b[0m\n",
      "\u001b[34m[10/20/2022 05:34:05 INFO 139842248656704] Epoch[6] Time cost=5.549\u001b[0m\n",
      "\u001b[34m[10/20/2022 05:34:06 INFO 139842248656704] Epoch[6] Validation-accuracy=0.755208\u001b[0m\n",
      "\u001b[34m[10/20/2022 05:34:10 INFO 139842248656704] Epoch[7] Batch [20]#011Speed: 173.130 samples/sec#011accuracy=0.813988\u001b[0m\n",
      "\u001b[34m[10/20/2022 05:34:12 INFO 139842248656704] Epoch[7] Train-accuracy=0.814516\u001b[0m\n",
      "\u001b[34m[10/20/2022 05:34:12 INFO 139842248656704] Epoch[7] Time cost=5.512\u001b[0m\n",
      "\u001b[34m[10/20/2022 05:34:12 INFO 139842248656704] Epoch[7] Validation-accuracy=0.816964\u001b[0m\n",
      "\u001b[34m[10/20/2022 05:34:17 INFO 139842248656704] Epoch[8] Batch [20]#011Speed: 173.070 samples/sec#011accuracy=0.824405\u001b[0m\n",
      "\u001b[34m[10/20/2022 05:34:18 INFO 139842248656704] Epoch[8] Train-accuracy=0.818548\u001b[0m\n",
      "\u001b[34m[10/20/2022 05:34:18 INFO 139842248656704] Epoch[8] Time cost=5.471\u001b[0m\n",
      "\u001b[34m[10/20/2022 05:34:19 INFO 139842248656704] Epoch[8] Validation-accuracy=0.812500\u001b[0m\n",
      "\u001b[34m[10/20/2022 05:34:23 INFO 139842248656704] Epoch[9] Batch [20]#011Speed: 172.091 samples/sec#011accuracy=0.819940\u001b[0m\n",
      "\u001b[34m[10/20/2022 05:34:25 INFO 139842248656704] Epoch[9] Train-accuracy=0.812500\u001b[0m\n",
      "\u001b[34m[10/20/2022 05:34:25 INFO 139842248656704] Epoch[9] Time cost=5.547\u001b[0m\n",
      "\u001b[34m[10/20/2022 05:34:26 INFO 139842248656704] Epoch[9] Validation-accuracy=0.817708\u001b[0m\n",
      "\u001b[34m[10/20/2022 05:34:30 INFO 139842248656704] Epoch[10] Batch [20]#011Speed: 175.492 samples/sec#011accuracy=0.833333\u001b[0m\n",
      "\u001b[34m[10/20/2022 05:34:32 INFO 139842248656704] Epoch[10] Train-accuracy=0.833669\u001b[0m\n",
      "\u001b[34m[10/20/2022 05:34:32 INFO 139842248656704] Epoch[10] Time cost=5.463\u001b[0m\n",
      "\u001b[34m[10/20/2022 05:34:32 INFO 139842248656704] Epoch[10] Validation-accuracy=0.739583\u001b[0m\n",
      "\u001b[34m[10/20/2022 05:34:36 INFO 139842248656704] Epoch[11] Batch [20]#011Speed: 173.627 samples/sec#011accuracy=0.811012\u001b[0m\n",
      "\u001b[34m[10/20/2022 05:34:38 INFO 139842248656704] Epoch[11] Train-accuracy=0.814516\u001b[0m\n",
      "\u001b[34m[10/20/2022 05:34:38 INFO 139842248656704] Epoch[11] Time cost=5.493\u001b[0m\n",
      "\u001b[34m[10/20/2022 05:34:39 INFO 139842248656704] Epoch[11] Validation-accuracy=0.790179\u001b[0m\n",
      "\u001b[34m[10/20/2022 05:34:43 INFO 139842248656704] Epoch[12] Batch [20]#011Speed: 172.990 samples/sec#011accuracy=0.837798\u001b[0m\n",
      "\u001b[34m[10/20/2022 05:34:45 INFO 139842248656704] Epoch[12] Train-accuracy=0.846774\u001b[0m\n",
      "\u001b[34m[10/20/2022 05:34:45 INFO 139842248656704] Epoch[12] Time cost=5.500\u001b[0m\n",
      "\u001b[34m[10/20/2022 05:34:45 INFO 139842248656704] Epoch[12] Validation-accuracy=0.833333\u001b[0m\n",
      "\u001b[34m[10/20/2022 05:34:46 INFO 139842248656704] Storing the best model with validation accuracy: 0.833333\u001b[0m\n",
      "\u001b[34m[10/20/2022 05:34:46 INFO 139842248656704] Saved checkpoint to \"/opt/ml/model/image-classification-0013.params\"\u001b[0m\n",
      "\u001b[34m[10/20/2022 05:34:50 INFO 139842248656704] Epoch[13] Batch [20]#011Speed: 174.036 samples/sec#011accuracy=0.843750\u001b[0m\n",
      "\u001b[34m[10/20/2022 05:34:51 INFO 139842248656704] Epoch[13] Train-accuracy=0.843750\u001b[0m\n",
      "\u001b[34m[10/20/2022 05:34:51 INFO 139842248656704] Epoch[13] Time cost=5.500\u001b[0m\n",
      "\u001b[34m[10/20/2022 05:34:52 INFO 139842248656704] Epoch[13] Validation-accuracy=0.833333\u001b[0m\n",
      "\u001b[34m[10/20/2022 05:34:56 INFO 139842248656704] Epoch[14] Batch [20]#011Speed: 173.651 samples/sec#011accuracy=0.877976\u001b[0m\n",
      "\u001b[34m[10/20/2022 05:34:58 INFO 139842248656704] Epoch[14] Train-accuracy=0.869960\u001b[0m\n",
      "\u001b[34m[10/20/2022 05:34:58 INFO 139842248656704] Epoch[14] Time cost=5.512\u001b[0m\n",
      "\u001b[34m[10/20/2022 05:34:59 INFO 139842248656704] Epoch[14] Validation-accuracy=0.817708\u001b[0m\n",
      "\u001b[34m[10/20/2022 05:35:03 INFO 139842248656704] Epoch[15] Batch [20]#011Speed: 172.292 samples/sec#011accuracy=0.857143\u001b[0m\n",
      "\u001b[34m[10/20/2022 05:35:05 INFO 139842248656704] Epoch[15] Train-accuracy=0.855847\u001b[0m\n",
      "\u001b[34m[10/20/2022 05:35:05 INFO 139842248656704] Epoch[15] Time cost=5.552\u001b[0m\n",
      "\u001b[34m[10/20/2022 05:35:05 INFO 139842248656704] Epoch[15] Validation-accuracy=0.816964\u001b[0m\n",
      "\u001b[34m[10/20/2022 05:35:10 INFO 139842248656704] Epoch[16] Batch [20]#011Speed: 172.152 samples/sec#011accuracy=0.897321\u001b[0m\n",
      "\u001b[34m[10/20/2022 05:35:11 INFO 139842248656704] Epoch[16] Train-accuracy=0.881048\u001b[0m\n",
      "\u001b[34m[10/20/2022 05:35:11 INFO 139842248656704] Epoch[16] Time cost=5.503\u001b[0m\n",
      "\u001b[34m[10/20/2022 05:35:12 INFO 139842248656704] Epoch[16] Validation-accuracy=0.817708\u001b[0m\n",
      "\u001b[34m[10/20/2022 05:35:16 INFO 139842248656704] Epoch[17] Batch [20]#011Speed: 173.524 samples/sec#011accuracy=0.888393\u001b[0m\n",
      "\u001b[34m[10/20/2022 05:35:18 INFO 139842248656704] Epoch[17] Train-accuracy=0.897177\u001b[0m\n",
      "\u001b[34m[10/20/2022 05:35:18 INFO 139842248656704] Epoch[17] Time cost=5.491\u001b[0m\n",
      "\u001b[34m[10/20/2022 05:35:19 INFO 139842248656704] Epoch[17] Validation-accuracy=0.828125\u001b[0m\n",
      "\u001b[34m[10/20/2022 05:35:23 INFO 139842248656704] Epoch[18] Batch [20]#011Speed: 171.445 samples/sec#011accuracy=0.852679\u001b[0m\n",
      "\u001b[34m[10/20/2022 05:35:25 INFO 139842248656704] Epoch[18] Train-accuracy=0.854839\u001b[0m\n",
      "\u001b[34m[10/20/2022 05:35:25 INFO 139842248656704] Epoch[18] Time cost=5.519\u001b[0m\n",
      "\u001b[34m[10/20/2022 05:35:25 INFO 139842248656704] Epoch[18] Validation-accuracy=0.765625\u001b[0m\n",
      "\u001b[34m[10/20/2022 05:35:29 INFO 139842248656704] Epoch[19] Batch [20]#011Speed: 174.220 samples/sec#011accuracy=0.863095\u001b[0m\n",
      "\u001b[34m[10/20/2022 05:35:31 INFO 139842248656704] Epoch[19] Train-accuracy=0.865927\u001b[0m\n",
      "\u001b[34m[10/20/2022 05:35:31 INFO 139842248656704] Epoch[19] Time cost=5.479\u001b[0m\n",
      "\u001b[34m[10/20/2022 05:35:32 INFO 139842248656704] Epoch[19] Validation-accuracy=0.812500\u001b[0m\n",
      "\u001b[34m[10/20/2022 05:35:36 INFO 139842248656704] Epoch[20] Batch [20]#011Speed: 171.433 samples/sec#011accuracy=0.895833\u001b[0m\n",
      "\u001b[34m[10/20/2022 05:35:38 INFO 139842248656704] Epoch[20] Train-accuracy=0.879032\u001b[0m\n",
      "\u001b[34m[10/20/2022 05:35:38 INFO 139842248656704] Epoch[20] Time cost=5.554\u001b[0m\n",
      "\u001b[34m[10/20/2022 05:35:38 INFO 139842248656704] Epoch[20] Validation-accuracy=0.833333\u001b[0m\n",
      "\u001b[34m[10/20/2022 05:35:43 INFO 139842248656704] Epoch[21] Batch [20]#011Speed: 172.629 samples/sec#011accuracy=0.870536\u001b[0m\n",
      "\u001b[34m[10/20/2022 05:35:45 INFO 139842248656704] Epoch[21] Train-accuracy=0.881048\u001b[0m\n",
      "\u001b[34m[10/20/2022 05:35:45 INFO 139842248656704] Epoch[21] Time cost=5.520\u001b[0m\n",
      "\u001b[34m[10/20/2022 05:35:45 INFO 139842248656704] Epoch[21] Validation-accuracy=0.807292\u001b[0m\n",
      "\u001b[34m[10/20/2022 05:35:49 INFO 139842248656704] Epoch[22] Batch [20]#011Speed: 174.210 samples/sec#011accuracy=0.913690\u001b[0m\n",
      "\u001b[34m[10/20/2022 05:35:51 INFO 139842248656704] Epoch[22] Train-accuracy=0.895161\u001b[0m\n",
      "\u001b[34m[10/20/2022 05:35:51 INFO 139842248656704] Epoch[22] Time cost=5.482\u001b[0m\n",
      "\u001b[34m[10/20/2022 05:35:52 INFO 139842248656704] Epoch[22] Validation-accuracy=0.812500\u001b[0m\n",
      "\u001b[34m[10/20/2022 05:35:56 INFO 139842248656704] Epoch[23] Batch [20]#011Speed: 176.790 samples/sec#011accuracy=0.919643\u001b[0m\n",
      "\u001b[34m[10/20/2022 05:35:58 INFO 139842248656704] Epoch[23] Train-accuracy=0.911290\u001b[0m\n",
      "\u001b[34m[10/20/2022 05:35:58 INFO 139842248656704] Epoch[23] Time cost=5.410\u001b[0m\n",
      "\u001b[34m[10/20/2022 05:35:58 INFO 139842248656704] Epoch[23] Validation-accuracy=0.812500\u001b[0m\n",
      "\u001b[34m[10/20/2022 05:36:02 INFO 139842248656704] Epoch[24] Batch [20]#011Speed: 172.686 samples/sec#011accuracy=0.906250\u001b[0m\n",
      "\u001b[34m[10/20/2022 05:36:04 INFO 139842248656704] Epoch[24] Train-accuracy=0.908266\u001b[0m\n",
      "\u001b[34m[10/20/2022 05:36:04 INFO 139842248656704] Epoch[24] Time cost=5.537\u001b[0m\n",
      "\u001b[34m[10/20/2022 05:36:05 INFO 139842248656704] Epoch[24] Validation-accuracy=0.807292\u001b[0m\n",
      "\u001b[34m[10/20/2022 05:36:09 INFO 139842248656704] Epoch[25] Batch [20]#011Speed: 170.839 samples/sec#011accuracy=0.922619\u001b[0m\n",
      "\u001b[34m[10/20/2022 05:36:11 INFO 139842248656704] Epoch[25] Train-accuracy=0.925403\u001b[0m\n",
      "\u001b[34m[10/20/2022 05:36:11 INFO 139842248656704] Epoch[25] Time cost=5.521\u001b[0m\n",
      "\u001b[34m[10/20/2022 05:36:11 INFO 139842248656704] Epoch[25] Validation-accuracy=0.807292\u001b[0m\n",
      "\u001b[34m[10/20/2022 05:36:16 INFO 139842248656704] Epoch[26] Batch [20]#011Speed: 172.857 samples/sec#011accuracy=0.924107\u001b[0m\n",
      "\u001b[34m[10/20/2022 05:36:18 INFO 139842248656704] Epoch[26] Train-accuracy=0.925403\u001b[0m\n",
      "\u001b[34m[10/20/2022 05:36:18 INFO 139842248656704] Epoch[26] Time cost=5.505\u001b[0m\n",
      "\u001b[34m[10/20/2022 05:36:18 INFO 139842248656704] Epoch[26] Validation-accuracy=0.822917\u001b[0m\n",
      "\u001b[34m[10/20/2022 05:36:22 INFO 139842248656704] Epoch[27] Batch [20]#011Speed: 173.760 samples/sec#011accuracy=0.938988\u001b[0m\n",
      "\u001b[34m[10/20/2022 05:36:24 INFO 139842248656704] Epoch[27] Train-accuracy=0.937500\u001b[0m\n",
      "\u001b[34m[10/20/2022 05:36:24 INFO 139842248656704] Epoch[27] Time cost=5.461\u001b[0m\n",
      "\u001b[34m[10/20/2022 05:36:25 INFO 139842248656704] Epoch[27] Validation-accuracy=0.825893\u001b[0m\n",
      "\u001b[34m[10/20/2022 05:36:29 INFO 139842248656704] Epoch[28] Batch [20]#011Speed: 172.967 samples/sec#011accuracy=0.967262\u001b[0m\n",
      "\u001b[34m[10/20/2022 05:36:31 INFO 139842248656704] Epoch[28] Train-accuracy=0.964718\u001b[0m\n",
      "\u001b[34m[10/20/2022 05:36:31 INFO 139842248656704] Epoch[28] Time cost=5.503\u001b[0m\n",
      "\u001b[34m[10/20/2022 05:36:31 INFO 139842248656704] Epoch[28] Validation-accuracy=0.812500\u001b[0m\n",
      "\n",
      "2022-10-20 05:36:46 Uploading - Uploading generated training model\u001b[34m[10/20/2022 05:36:35 INFO 139842248656704] Epoch[29] Batch [20]#011Speed: 173.681 samples/sec#011accuracy=0.956845\u001b[0m\n",
      "\u001b[34m[10/20/2022 05:36:37 INFO 139842248656704] Epoch[29] Train-accuracy=0.953629\u001b[0m\n",
      "\u001b[34m[10/20/2022 05:36:37 INFO 139842248656704] Epoch[29] Time cost=5.486\u001b[0m\n",
      "\u001b[34m[10/20/2022 05:36:38 INFO 139842248656704] Epoch[29] Validation-accuracy=0.822917\u001b[0m\n",
      "\n",
      "2022-10-20 05:37:41 Completed - Training job completed\n",
      "ProfilerReport-1666243595: NoIssuesFound\n",
      "Training seconds: 534\n",
      "Billable seconds: 534\n"
     ]
    }
   ],
   "source": [
    "## TODO: train your model\n",
    "img_classifier_model.fit({'train':model_inputs['train'], 'train_lst':model_inputs['train_lst'], 'validation':model_inputs['validation'],'validation_lst':model_inputs['validation_lst']})"
   ]
  },
  {
   "cell_type": "markdown",
   "metadata": {},
   "source": [
    "If all goes well, you'll end up with a model topping out above `.8` validation accuracy. With only 1000 training samples in the CIFAR dataset, that's pretty good. We could definitely pursue data augmentation & gathering more samples to help us improve further, but for now let's proceed to deploy our model.\n",
    "\n",
    "### Getting ready to deploy\n",
    "\n",
    "To begin with, let's configure Model Monitor to track our deployment. We'll define a `DataCaptureConfig` below:"
   ]
  },
  {
   "cell_type": "code",
   "execution_count": 37,
   "metadata": {},
   "outputs": [],
   "source": [
    "#pickle.dump(img_classifier_model, open('img_classifier_model.pkl','wb'))"
   ]
  },
  {
   "cell_type": "code",
   "execution_count": 38,
   "metadata": {},
   "outputs": [],
   "source": [
    "from sagemaker.model_monitor import DataCaptureConfig\n",
    "\n",
    "data_capture_config = DataCaptureConfig(\n",
    "    ## TODO: Set config options\n",
    "    destination_s3_uri=f\"s3://{bucket}/data_capture\",\n",
    "    enable_capture=True\n",
    ")"
   ]
  },
  {
   "cell_type": "markdown",
   "metadata": {},
   "source": [
    "Note the `destination_s3_uri` parameter: At the end of the project, we can explore the `data_capture` directory in S3 to find crucial data about the inputs and outputs Model Monitor has observed on our model endpoint over time.\n",
    "\n",
    "With that done, deploy your model on a single `ml.m5.xlarge` instance with the data capture config attached:"
   ]
  },
  {
   "cell_type": "code",
   "execution_count": 39,
   "metadata": {},
   "outputs": [
    {
     "name": "stdout",
     "output_type": "stream",
     "text": [
      "-------------------!image-classification-2022-10-20-05-42-59-828\n"
     ]
    }
   ],
   "source": [
    "deployment = img_classifier_model.deploy(\n",
    "    ## TODO: fill in deployment options\n",
    "    initial_instance_count=1, \n",
    "    instance_type='ml.m5.xlarge',\n",
    "    data_capture_config=data_capture_config\n",
    "    )\n",
    "\n",
    "endpoint = deployment.endpoint_name\n",
    "print(endpoint)"
   ]
  },
  {
   "cell_type": "markdown",
   "metadata": {},
   "source": [
    "Note the endpoint name for later as well.\n",
    "\n",
    "Next, instantiate a Predictor:"
   ]
  },
  {
   "cell_type": "code",
   "execution_count": 43,
   "metadata": {},
   "outputs": [],
   "source": [
    "# Endpoint is image-classification-2022-10-20-05-42-59-828"
   ]
  },
  {
   "cell_type": "code",
   "execution_count": 40,
   "metadata": {},
   "outputs": [],
   "source": [
    "predictor = deployment ## TODO: fill in"
   ]
  },
  {
   "cell_type": "markdown",
   "metadata": {},
   "source": [
    "In the code snippet below we are going to prepare one of your saved images for prediction. Use the predictor to process the `payload`."
   ]
  },
  {
   "cell_type": "code",
   "execution_count": 41,
   "metadata": {},
   "outputs": [],
   "source": [
    "from sagemaker.serializers import IdentitySerializer\n",
    "import base64\n",
    "\n",
    "predictor.serializer = IdentitySerializer(\"image/png\")\n",
    "with open(\"./test/bicycle_s_001789.png\", \"rb\") as f:\n",
    "    payload = f.read()\n",
    "\n",
    "    \n",
    "inference = predictor.predict(payload) ## TODO: Process the payload with your predictor"
   ]
  },
  {
   "cell_type": "markdown",
   "metadata": {},
   "source": [
    "Your `inference` object is an array of two values, the predicted probability value for each of your classes (bicycle and motorcycle respectively.) So, for example, a value of `b'[0.91, 0.09]'` indicates the probability of being a bike is 91% and being a motorcycle is 9%."
   ]
  },
  {
   "cell_type": "code",
   "execution_count": 42,
   "metadata": {},
   "outputs": [
    {
     "name": "stdout",
     "output_type": "stream",
     "text": [
      "b'[0.9256007075309753, 0.07439925521612167]'\n"
     ]
    }
   ],
   "source": [
    "print(inference)"
   ]
  },
  {
   "cell_type": "markdown",
   "metadata": {},
   "source": [
    "### Draft Lambdas and Step Function Workflow\n",
    "\n",
    "Your operations team uses Step Functions to orchestrate serverless workflows. One of the nice things about Step Functions is that [workflows can call other workflows](https://docs.aws.amazon.com/step-functions/latest/dg/connect-stepfunctions.html), so the team can easily plug your workflow into the broader production architecture for Scones Unlimited.\n",
    "\n",
    "In this next stage you're going to write and deploy three Lambda functions, and then use the Step Functions visual editor to chain them together! Our functions are going to work with a simple data object:\n",
    "\n",
    "```python\n",
    "{\n",
    "    \"inferences\": [], # Output of predictor.predict\n",
    "    \"s3_key\": \"\", # Source data S3 key\n",
    "    \"s3_bucket\": \"\", # Source data S3 bucket\n",
    "    \"image_data\": \"\"  # base64 encoded string containing the image data\n",
    "}\n",
    "```\n",
    "\n",
    "A good test object that you can use for Lambda tests and Step Function executions, throughout the next section, might look like this:\n",
    "\n",
    "```python\n",
    "{\n",
    "  \"image_data\": \"\",\n",
    "  \"s3_bucket\": MY_BUCKET_NAME, # Fill in with your bucket\n",
    "  \"s3_key\": \"test/bicycle_s_000513.png\"\n",
    "}\n",
    "```\n",
    "\n",
    "Using these fields, your functions can read and write the necessary data to execute your workflow. Let's start with the first function. Your first Lambda function will copy an object from S3, base64 encode it, and then return it to the step function as `image_data` in an event.\n",
    "\n",
    "Go to the Lambda dashboard and create a new Lambda function with a descriptive name like \"serializeImageData\" and select thr 'Python 3.8' runtime. Add the same permissions as the SageMaker role you created earlier. (Reminder: you do this in the Configuration tab under \"Permissions\"). Once you're ready, use the starter code below to craft your Lambda handler:\n",
    "\n",
    "```python\n",
    "import json\n",
    "import boto3\n",
    "import base64\n",
    "\n",
    "s3 = boto3.client('s3')\n",
    "\n",
    "def lambda_handler(event, context):\n",
    "    \"\"\"A function to serialize target data from S3\"\"\"\n",
    "    \n",
    "    # Get the s3 address from the Step Function event input\n",
    "    key = ## TODO: fill in\n",
    "    bucket = ## TODO: fill in\n",
    "    \n",
    "    # Download the data from s3 to /tmp/image.png\n",
    "    ## TODO: fill in\n",
    "    \n",
    "    # We read the data from a file\n",
    "    with open(\"/tmp/image.png\", \"rb\") as f:\n",
    "        image_data = base64.b64encode(f.read())\n",
    "\n",
    "    # Pass the data back to the Step Function\n",
    "    print(\"Event:\", event.keys())\n",
    "    return {\n",
    "        'statusCode': 200,\n",
    "        'body': {\n",
    "            \"image_data\": image_data,\n",
    "            \"s3_bucket\": bucket,\n",
    "            \"s3_key\": key,\n",
    "            \"inferences\": []\n",
    "        }\n",
    "    }\n",
    "```\n",
    "\n",
    "The next function is responsible for the classification part - we're going to take the image output from the previous function, decode it, and then pass inferences back to the the Step Function.\n",
    "\n",
    "Because this Lambda will have runtime dependencies (i.e. the SageMaker SDK) you'll need to package them in your function. *Key reading:* https://docs.aws.amazon.com/lambda/latest/dg/python-package-create.html#python-package-create-with-dependency\n",
    "\n",
    "Create a new Lambda function with the same rights and a descriptive name, then fill in the starter code below for your classifier Lambda.\n",
    "\n",
    "```python\n",
    "import json\n",
    "import sagemaker\n",
    "import base64\n",
    "from sagemaker.serializers import IdentitySerializer\n",
    "\n",
    "# Fill this in with the name of your deployed model\n",
    "ENDPOINT = ## TODO: fill in\n",
    "\n",
    "def lambda_handler(event, context):\n",
    "\n",
    "    # Decode the image data\n",
    "    image = base64.b64decode(## TODO: fill in)\n",
    "\n",
    "    # Instantiate a Predictor\n",
    "    predictor = ## TODO: fill in\n",
    "\n",
    "    # For this model the IdentitySerializer needs to be \"image/png\"\n",
    "    predictor.serializer = IdentitySerializer(\"image/png\")\n",
    "    \n",
    "    # Make a prediction:\n",
    "    inferences = ## TODO: fill in\n",
    "    \n",
    "    # We return the data back to the Step Function    \n",
    "    event[\"inferences\"] = inferences.decode('utf-8')\n",
    "    return {\n",
    "        'statusCode': 200,\n",
    "        'body': json.dumps(event)\n",
    "    }\n",
    "```\n",
    "\n",
    "Finally, we need to filter low-confidence inferences. Define a threshold between 1.00 and 0.000 for your model: what is reasonble for you? If the model predicts at `.70` for it's highest confidence label, do we want to pass that inference along to downstream systems? Make one last Lambda function and tee up the same permissions:\n",
    "\n",
    "```python\n",
    "import json\n",
    "\n",
    "\n",
    "THRESHOLD = .93\n",
    "\n",
    "\n",
    "def lambda_handler(event, context):\n",
    "    \n",
    "    # Grab the inferences from the event\n",
    "    inferences = ## TODO: fill in\n",
    "    \n",
    "    # Check if any values in our inferences are above THRESHOLD\n",
    "    meets_threshold = ## TODO: fill in\n",
    "    \n",
    "    # If our threshold is met, pass our data back out of the\n",
    "    # Step Function, else, end the Step Function with an error\n",
    "    if meets_threshold:\n",
    "        pass\n",
    "    else:\n",
    "        raise(\"THRESHOLD_CONFIDENCE_NOT_MET\")\n",
    "\n",
    "    return {\n",
    "        'statusCode': 200,\n",
    "        'body': json.dumps(event)\n",
    "    }\n",
    "```\n",
    "Once you have tested the lambda functions, save the code for each lambda function in a python script called 'lambda.py'.\n",
    "\n",
    "With your lambdas in place, you can use the Step Functions visual editor to construct a workflow that chains them together. In the Step Functions console you'll have the option to author a Standard step function *Visually*.\n",
    "\n",
    "When the visual editor opens, you'll have many options to add transitions in your workflow. We're going to keep it simple and have just one: to invoke Lambda functions. Add three of them chained together. For each one, you'll be able to select the Lambda functions you just created in the proper order, filter inputs and outputs, and give them descriptive names.\n",
    "\n",
    "Make sure that you:\n",
    "\n",
    "1. Are properly filtering the inputs and outputs of your invokations (e.g. `$.body`)\n",
    "2. Take care to remove the error handling from the last function - it's supposed to \"fail loudly\" for your operations colleagues!\n",
    "\n",
    "Take a screenshot of your working step function in action and export the step function as JSON for your submission package."
   ]
  },
  {
   "cell_type": "markdown",
   "metadata": {},
   "source": [
    "\n",
    "Great! Now you can use the files in `./test` as test files for our workflow. Depending on our threshold, our workflow should reliably pass predictions about images from `./test` on to downstream systems, while erroring out for inferences below our confidence threshold!\n",
    "\n",
    "### Testing and Evaluation\n",
    "\n",
    "Do several step function invokations using data from the `./test` folder. This process should give you confidence that the workflow both *succeeds* AND *fails* as expected. In addition, SageMaker Model Monitor will generate recordings of your data and inferences which we can visualize.\n",
    "\n",
    "Here's a function that can help you generate test inputs for your invokations:"
   ]
  },
  {
   "cell_type": "code",
   "execution_count": 61,
   "metadata": {},
   "outputs": [
    {
     "name": "stdout",
     "output_type": "stream",
     "text": [
      "test/motorcycle_s_000866.png\n"
     ]
    },
    {
     "data": {
      "text/plain": [
       "'{\"image_data\": \"\", \"s3_bucket\": \"dev-ml-hreining\", \"s3_key\": \"test/motorcycle_s_000866.png\"}'"
      ]
     },
     "execution_count": 61,
     "metadata": {},
     "output_type": "execute_result"
    }
   ],
   "source": [
    "import random\n",
    "import boto3\n",
    "import json\n",
    "\n",
    "\n",
    "def generate_test_case():\n",
    "    # Setup s3 in boto3\n",
    "    s3 = boto3.resource('s3')\n",
    "    \n",
    "    # Randomly pick from sfn or test folders in our bucket\n",
    "    objects = s3.Bucket(bucket).objects.filter(Prefix='test')\n",
    "    \n",
    "    # Grab any random object key from that folder!\n",
    "    obj = random.choice([x.key for x in objects])\n",
    "    print(obj)    \n",
    "    return json.dumps({\n",
    "        \"image_data\": \"\",\n",
    "        \"s3_bucket\": bucket,\n",
    "        \"s3_key\": obj\n",
    "    })\n",
    "\n",
    "generate_test_case()"
   ]
  },
  {
   "cell_type": "markdown",
   "metadata": {},
   "source": [
    "In the Step Function dashboard for your new function, you can create new executions and copy in the generated test cases. Do several executions so that you can generate data you can evaluate and visualize.\n",
    "\n",
    "Once you've done several executions, let's visualize the record of our inferences. Pull in the JSONLines data from your inferences like so:"
   ]
  },
  {
   "cell_type": "code",
   "execution_count": 53,
   "metadata": {},
   "outputs": [],
   "source": [
    "from sagemaker.s3 import S3Downloader\n",
    "\n",
    "# In S3 your data will be saved to a datetime-aware path\n",
    "# Find a path related to a datetime you're interested in\n",
    "data_path = \"s3://dev-ml-hreining/data_capture/image-classification-2022-10-20-05-42-59-828/AllTraffic/2022/10/21/05\" ## TODO: fill in the path to your captured data\n",
    "\n",
    "S3Downloader.download(data_path, \"captured_data\")\n",
    "\n",
    "# Feel free to repeat this multiple times and pull in more data"
   ]
  },
  {
   "cell_type": "code",
   "execution_count": 13,
   "metadata": {},
   "outputs": [
    {
     "name": "stdout",
     "output_type": "stream",
     "text": [
      "Requirement already satisfied: pip in /opt/conda/lib/python3.7/site-packages (22.2.2)\n",
      "Collecting pip\n",
      "  Downloading pip-22.3-py3-none-any.whl (2.1 MB)\n",
      "\u001b[2K     \u001b[90m━━━━━━━━━━━━━━━━━━━━━━━━━━━━━━━━━━━━━━━━\u001b[0m \u001b[32m2.1/2.1 MB\u001b[0m \u001b[31m17.1 MB/s\u001b[0m eta \u001b[36m0:00:00\u001b[0m00:01\u001b[0m\n",
      "\u001b[?25hInstalling collected packages: pip\n",
      "  Attempting uninstall: pip\n",
      "    Found existing installation: pip 22.2.2\n",
      "    Uninstalling pip-22.2.2:\n",
      "      Successfully uninstalled pip-22.2.2\n",
      "Successfully installed pip-22.3\n",
      "\u001b[33mWARNING: Running pip as the 'root' user can result in broken permissions and conflicting behaviour with the system package manager. It is recommended to use a virtual environment instead: https://pip.pypa.io/warnings/venv\u001b[0m\u001b[33m\n",
      "\u001b[0m"
     ]
    }
   ],
   "source": [
    "!pip install pip --upgrade"
   ]
  },
  {
   "cell_type": "markdown",
   "metadata": {},
   "source": [
    "The data are in JSONLines format, where multiple valid JSON objects are stacked on top of eachother in a single `jsonl` file. We'll import an open-source library, `jsonlines` that was purpose built for parsing this format."
   ]
  },
  {
   "cell_type": "code",
   "execution_count": 14,
   "metadata": {},
   "outputs": [
    {
     "name": "stdout",
     "output_type": "stream",
     "text": [
      "Requirement already satisfied: jsonlines in /opt/conda/lib/python3.7/site-packages (3.1.0)\n",
      "Requirement already satisfied: typing-extensions in /opt/conda/lib/python3.7/site-packages (from jsonlines) (4.3.0)\n",
      "Requirement already satisfied: attrs>=19.2.0 in /opt/conda/lib/python3.7/site-packages (from jsonlines) (21.4.0)\n",
      "\u001b[33mWARNING: Running pip as the 'root' user can result in broken permissions and conflicting behaviour with the system package manager. It is recommended to use a virtual environment instead: https://pip.pypa.io/warnings/venv\u001b[0m\u001b[33m\n",
      "\u001b[0m"
     ]
    }
   ],
   "source": [
    "!pip install jsonlines\n",
    "import jsonlines"
   ]
  },
  {
   "cell_type": "markdown",
   "metadata": {},
   "source": [
    "Now we can extract the data from each of the source files:"
   ]
  },
  {
   "cell_type": "code",
   "execution_count": 54,
   "metadata": {},
   "outputs": [],
   "source": [
    "import os\n",
    "\n",
    "# List the file names we downloaded\n",
    "file_handles = os.listdir(\"./captured_data\")\n",
    "file_handles = [f for f in file_handles if f.endswith(\".jsonl\")]\n",
    "\n",
    "# Dump all the data into an array\n",
    "json_data = []\n",
    "for jsonl in file_handles:\n",
    "    with jsonlines.open(f\"./captured_data/{jsonl}\") as f:\n",
    "        json_data.append(f.read())"
   ]
  },
  {
   "cell_type": "code",
   "execution_count": 55,
   "metadata": {},
   "outputs": [
    {
     "data": {
      "text/plain": [
       "[{'captureData': {'endpointInput': {'observedContentType': 'image/png',\n",
       "    'mode': 'INPUT',\n",
       "    'data': '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',\n",
       "    'encoding': 'BASE64'},\n",
       "   'endpointOutput': {'observedContentType': 'application/json',\n",
       "    'mode': 'OUTPUT',\n",
       "    'data': '[0.3570334315299988, 0.6429665684700012]',\n",
       "    'encoding': 'JSON'}},\n",
       "  'eventMetadata': {'eventId': 'b0bfcdf5-be2c-4105-8e70-e1eecb561b8d',\n",
       "   'inferenceTime': '2022-10-21T04:24:30Z'},\n",
       "  'eventVersion': '0'},\n",
       " {'captureData': {'endpointInput': {'observedContentType': 'image/png',\n",
       "    'mode': 'INPUT',\n",
       "    'data': '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',\n",
       "    'encoding': 'BASE64'},\n",
       "   'endpointOutput': {'observedContentType': 'application/json',\n",
       "    'mode': 'OUTPUT',\n",
       "    'data': '[0.3570334315299988, 0.6429665684700012]',\n",
       "    'encoding': 'JSON'}},\n",
       "  'eventMetadata': {'eventId': 'ebb4374e-b144-425d-88be-c8f31d2e7d91',\n",
       "   'inferenceTime': '2022-10-21T04:59:53Z'},\n",
       "  'eventVersion': '0'},\n",
       " {'captureData': {'endpointInput': {'observedContentType': 'image/png',\n",
       "    'mode': 'INPUT',\n",
       "    'data': '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',\n",
       "    'encoding': 'BASE64'},\n",
       "   'endpointOutput': {'observedContentType': 'application/json',\n",
       "    'mode': 'OUTPUT',\n",
       "    'data': '[0.3570334315299988, 0.6429665684700012]',\n",
       "    'encoding': 'JSON'}},\n",
       "  'eventMetadata': {'eventId': 'f97779c8-1e6f-4be7-ac90-ac197fe22152',\n",
       "   'inferenceTime': '2022-10-21T05:00:57Z'},\n",
       "  'eventVersion': '0'}]"
      ]
     },
     "execution_count": 55,
     "metadata": {},
     "output_type": "execute_result"
    }
   ],
   "source": [
    "json_data"
   ]
  },
  {
   "cell_type": "markdown",
   "metadata": {},
   "source": [
    "The data should now be a list of dictionaries, with significant nesting. We'll give you an example of some code that grabs data out of the objects and visualizes it:"
   ]
  },
  {
   "cell_type": "code",
   "execution_count": 56,
   "metadata": {},
   "outputs": [
    {
     "data": {
      "text/plain": [
       "([0.3570334315299988, 0.6429665684700012], '2022-10-21T04:24:30Z')"
      ]
     },
     "execution_count": 56,
     "metadata": {},
     "output_type": "execute_result"
    }
   ],
   "source": [
    "# Define how we'll get our data\n",
    "def simple_getter(obj):\n",
    "    inferences = obj[\"captureData\"][\"endpointOutput\"][\"data\"]\n",
    "    timestamp = obj[\"eventMetadata\"][\"inferenceTime\"]\n",
    "    return json.loads(inferences), timestamp\n",
    "\n",
    "simple_getter(json_data[0])"
   ]
  },
  {
   "cell_type": "code",
   "execution_count": 32,
   "metadata": {},
   "outputs": [],
   "source": [
    "import matplotlib.pyplot as plt\n",
    "%matplotlib inline"
   ]
  },
  {
   "cell_type": "markdown",
   "metadata": {},
   "source": [
    "Finally, here's an example of a visualization you can build with this data. In this last part, you will take some time and build your own - the captured data has the input images, the resulting inferences, and the timestamps."
   ]
  },
  {
   "cell_type": "code",
   "execution_count": 57,
   "metadata": {},
   "outputs": [
    {
     "data": {
      "image/png": "[encoded data removed]",
      "text/plain": [
       "<Figure size 640x480 with 1 Axes>"
      ]
     },
     "metadata": {},
     "output_type": "display_data"
    }
   ],
   "source": [
    "# Populate the data for the x and y axis\n",
    "x = []\n",
    "y = []\n",
    "for obj in json_data:\n",
    "    inference, timestamp = simple_getter(obj)\n",
    "    \n",
    "    y.append(max(inference))\n",
    "    x.append(timestamp)\n",
    "\n",
    "# Todo: here is an visualization example, take some time to build another visual that helps monitor the result\n",
    "# Plot the data\n",
    "plt.scatter(x, y, c=['r' if k<.94 else 'b' for k in y ])\n",
    "plt.axhline(y=0.94, color='g', linestyle='--')\n",
    "plt.ylim(bottom=.88)\n",
    "\n",
    "# Add labels\n",
    "plt.ylabel(\"Confidence\")\n",
    "plt.suptitle(\"Observed Recent Inferences\", size=14)\n",
    "plt.title(\"Pictured with confidence threshold for production use\", size=10)\n",
    "\n",
    "# Give it some pizzaz!\n",
    "plt.style.use(\"Solarize_Light2\")\n",
    "plt.gcf().autofmt_xdate()"
   ]
  },
  {
   "cell_type": "markdown",
   "metadata": {},
   "source": [
    "### Todo: build your own visualization\n"
   ]
  },
  {
   "cell_type": "markdown",
   "metadata": {},
   "source": [
    "### Congratulations!\n",
    "\n",
    "You've reached the end of the project. In this project you created an event-drivent ML workflow that can be incorporated into the Scones Unlimited production architecture. You used the SageMaker Estimator API to deploy your SageMaker Model and Endpoint, and you used AWS Lambda and Step Functions to orchestrate your ML workflow. Using SageMaker Model Monitor, you instrumented and observed your Endpoint, and at the end of the project you built a visualization to help stakeholders understand the performance of the Endpoint over time. If you're up for it, you can even go further with these stretch goals:\n",
    "\n",
    "* Extend your workflow to incorporate more classes: the CIFAR dataset includes other vehicles that Scones Unlimited can identify with this model.\n",
    "* Modify your event driven workflow: can you rewrite your Lambda functions so that the workflow can process multiple image inputs in parallel? Can the Step Function \"fan out\" to accomodate this new workflow?\n",
    "* Consider the test data generator we provided for you. Can we use it to create a \"dummy data\" generator, to simulate a continuous stream of input data? Or a big paralell load of data?\n",
    "* What if we want to get notified every time our step function errors out? Can we use the Step Functions visual editor in conjunction with a service like SNS to accomplish this? Try it out!\n",
    "\n",
    "\n"
   ]
  }
 ],
 "metadata": {
  "instance_type": "ml.t3.medium",
  "kernelspec": {
   "display_name": "Python 3 (Data Science)",
   "language": "python",
   "name": "python3__SAGEMAKER_INTERNAL__arn:aws:sagemaker:us-east-1:081325390199:image/datascience-1.0"
  },
  "language_info": {
   "codemirror_mode": {
    "name": "ipython",
    "version": 3
   },
   "file_extension": ".py",
   "mimetype": "text/x-python",
   "name": "python",
   "nbconvert_exporter": "python",
   "pygments_lexer": "ipython3",
   "version": "3.7.10"
  }
 },
 "nbformat": 4,
 "nbformat_minor": 4
}
